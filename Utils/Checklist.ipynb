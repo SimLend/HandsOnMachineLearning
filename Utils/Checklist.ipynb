{
 "cells": [
  {
   "attachments": {},
   "cell_type": "markdown",
   "metadata": {},
   "source": [
    "# **Project's name** #\n",
    "\n",
    "Elaborate a model that enables prediciton of median housing prices per block in california.\n",
    "\n",
    "---\n",
    "\n",
    "## **Problem description** ##\n",
    "\n",
    "---\n",
    "\n",
    "### **Buisness objective** ###\n",
    "\n",
    "---\n",
    "\n",
    "### **Solution's Use cases** ###\n",
    "\n",
    "---\n",
    "\n",
    "### **Current solutions?** ###\n",
    "\n",
    "---\n",
    "\n",
    "### **Problem framing** ###\n",
    "\n",
    "---\n",
    "\n",
    "### **How to measure performance?** ###\n",
    "*Performance measure metrics cheatsheet:*\n",
    "> Norm : L2, L1. (more generally Ln) Depends on outliers\n",
    "> $$RMSE(X,h) = \\sqrt{\\frac{1}{m_i}\\sum_{i=1}^m(h(X_i)-y_i)^2}$$\n",
    "> $$MAE(X,h) = \\frac{1}{m_i}\\sum_{i=1}^m|h(X_i)-y_i|$$\n",
    "> $$l_nE(X,h) = \\sqrt[n]{\\frac{1}{m_i}\\sum_{i=1}^m(h(X_i)-y_i)^n}$$\n",
    "\n",
    "---\n",
    "\n",
    "### **Is performance measure aligned with buisness objective?** ###\n",
    "\n",
    "---\n",
    "\n",
    "### **Minimum performance for production** ###\n",
    "\n",
    "---\n",
    "\n",
    "### **Comparable or existing solutions** ###\n",
    "\n",
    "---\n",
    "\n",
    "### **Human expertise available?** ###\n",
    "\n",
    "---\n",
    "\n",
    "### **How to solve problem manually** ###\n",
    "\n",
    "---\n",
    "\n",
    "### **List assumptions** ###\n",
    "\n",
    "---\n",
    "\n",
    "### **Evaluate assumptions** ###\n",
    "\n",
    "---\n"
   ]
  },
  {
   "attachments": {},
   "cell_type": "markdown",
   "metadata": {},
   "source": [
    "## **Get the data** ##\n",
    "\n",
    "### **What data and how much?** ###\n",
    "\n",
    "---\n",
    "\n",
    "### **Where to get the data?** ###\n",
    "\n",
    "---\n",
    "\n",
    "### **How much space will the data take** ###\n",
    "\n",
    "---\n",
    "\n",
    "### **Legal obligations** ###\n",
    "\n",
    "\n",
    "---\n",
    "\n",
    "### **get authorizations** ###\n",
    "\n",
    "\n",
    "---"
   ]
  },
  {
   "attachments": {},
   "cell_type": "markdown",
   "metadata": {},
   "source": [
    "### **Create a workspace and get the data and convert it without alterations** ###"
   ]
  },
  {
   "cell_type": "code",
   "execution_count": 1,
   "metadata": {},
   "outputs": [
    {
     "data": {
      "text/plain": [
       "' Retreive the data '"
      ]
     },
     "execution_count": 1,
     "metadata": {},
     "output_type": "execute_result"
    }
   ],
   "source": [
    "\"\"\" Retreive the data \"\"\""
   ]
  },
  {
   "attachments": {},
   "cell_type": "markdown",
   "metadata": {},
   "source": [
    "### **Anonimize / protect the data** ###\n",
    "\n",
    "---\n",
    "\n",
    "### **Check size & type** ###"
   ]
  },
  {
   "cell_type": "code",
   "execution_count": 2,
   "metadata": {},
   "outputs": [
    {
     "data": {
      "text/plain": [
       "' Print various data infos '"
      ]
     },
     "execution_count": 2,
     "metadata": {},
     "output_type": "execute_result"
    }
   ],
   "source": [
    "\"\"\" Print various data infos \"\"\""
   ]
  },
  {
   "attachments": {},
   "cell_type": "markdown",
   "metadata": {},
   "source": [
    "***Firsts observations***"
   ]
  },
  {
   "attachments": {},
   "cell_type": "markdown",
   "metadata": {},
   "source": [
    "### **Sample a test set and never look at it** ###\n",
    "**ATTENTION:**\n",
    "   - You can't simply shuffle the data because this means the dataset would change at each call\n",
    "   - You cant either fix a specific seed for the shuffling step as updated datasets would break the test set\n",
    "   - You should use a hash on an identifier\n",
    "        - The identifier can be a specific, unique identifier\n",
    "        - It can also be the Index (if reset)\n",
    "        - The hash can be anything. the crc32 is OK."
   ]
  },
  {
   "attachments": {},
   "cell_type": "markdown",
   "metadata": {},
   "source": [
    "## **Explore the data** ##\n",
    "\n",
    "### **Create a copy** ###\n",
    "\n",
    "---\n",
    "\n",
    "### **Create a notebook to record exploration** ###\n",
    "\n",
    "---\n",
    "\n",
    "### **Study each attribute** ###\n",
    "\n",
    "- Name\n",
    "- Type \n",
    "- Missing values (%)\n",
    "- Noisiness\n",
    "- Usefulness\n",
    "- Distribution\n",
    "\n",
    "--- "
   ]
  },
  {
   "attachments": {},
   "cell_type": "markdown",
   "metadata": {},
   "source": [
    "### **If supervised : what attribute?** ###\n",
    "\n",
    "--- \n",
    "\n",
    "### **Visualise the data** ###\n",
    "\n",
    "--- \n",
    "\n",
    "### **Explore correlations** ###\n",
    "\n",
    "--- \n",
    "\n",
    "### **How to solve manually** ###\n",
    "\n",
    "--- \n",
    "\n",
    "### **Study promising transformations to apply before** ###\n",
    "\n",
    "--- \n",
    "\n",
    "### **Extra data required?** ###\n",
    "\n",
    "--- \n",
    "\n",
    "### **Document what has been learned** ###\n",
    "\n",
    "--- "
   ]
  },
  {
   "attachments": {},
   "cell_type": "markdown",
   "metadata": {},
   "source": [
    "## **Prepare the data** ##\n",
    "\n",
    "--- \n",
    "\n",
    "### **Clean the data** ###\n",
    "\n",
    "--- \n",
    "\n",
    "#### **Remove outliers?** ####\n",
    "#### **Fill missing values or drop columns / rows** ####\n",
    "\n",
    "--- \n",
    "\n",
    "### **Select useful features (drop some?)** ###\n",
    "\n",
    "--- \n",
    "\n",
    "### **Feature engineering?** ###\n",
    "#### **Discretize continuous** ####\n",
    "#### **Decompose** ####\n",
    "#### **Add promising transformations** ####\n",
    "#### **Aggregate features into new ones** ####\n",
    "\n",
    "--- \n",
    "\n",
    "### **Scale features** ###\n",
    "#### **Standardize or normalize** ####\n",
    "\n",
    "--- \n"
   ]
  },
  {
   "attachments": {},
   "cell_type": "markdown",
   "metadata": {},
   "source": [
    "## **Shortlist models** ##\n",
    "\n",
    "--- \n",
    "\n",
    "### **Try and train many quick and dirty models (linear, Bayes, SVM, neural nets, random forests, etc...)** ###\n",
    "\n",
    "--- \n",
    "\n",
    "### **Measure performance (use N-folds cross validation)** ###\n",
    "\n",
    "--- \n",
    "\n",
    "### **Analize significant variables for each model** ###\n",
    "\n",
    "--- \n",
    "\n",
    "### **Analyze errors models make and what data would a human need to avoid these?** ###\n",
    "\n",
    "--- \n",
    "\n",
    "### **Quick round of feature selection / engineering** ###\n",
    "\n",
    "--- \n",
    "\n",
    "### **Quickly iterate the previous steps (one or two times)** ###\n",
    "\n",
    "--- \n",
    "\n",
    "### **Select a few models (3 to 5) preferring models that make different types of errors** ###\n",
    "\n",
    "--- "
   ]
  },
  {
   "attachments": {},
   "cell_type": "markdown",
   "metadata": {},
   "source": [
    "## **Fine tune** ##\n",
    "\n",
    "### **Fine tune hyperparameters using cross-validation** ###\n",
    "- Treat data transforms as hyperparameters especially if not sure about them\n",
    "- Unless very few hyperparameters, prefer random search over grid search. If training is long, use optimizations\n",
    "\n",
    "--- \n",
    "\n",
    "### **Try running models together (often gives better results)** ###\n",
    "\n",
    "--- \n",
    "\n",
    "### **Once confindent, validate the model against the test set** ###\n",
    "\n",
    "--- \n",
    "\n",
    "### **Measure performance (use N-folds cross validation)** ###\n",
    "\n",
    "--- \n",
    "\n",
    "### **Analize significant variables for each model** ###\n",
    "\n",
    "--- \n",
    "\n",
    "### **Analyze errors models make and what data would a human need to avoid these?** ###\n",
    "\n",
    "--- \n",
    "\n",
    "### **Quick round of feature selection / engineering** ###\n",
    "\n",
    "--- \n",
    "\n",
    "### **Quickly iterate the previous steps (one or two times)** ###\n",
    "\n",
    "--- \n",
    "\n",
    "### **Select a few models (3 to 5) preferring models that make different types of errors** ###\n",
    "\n"
   ]
  }
 ],
 "metadata": {
  "kernelspec": {
   "display_name": "MachineLearning",
   "language": "python",
   "name": "python3"
  },
  "language_info": {
   "codemirror_mode": {
    "name": "ipython",
    "version": 3
   },
   "file_extension": ".py",
   "mimetype": "text/x-python",
   "name": "python",
   "nbconvert_exporter": "python",
   "pygments_lexer": "ipython3",
   "version": "3.11.0"
  },
  "orig_nbformat": 4,
  "vscode": {
   "interpreter": {
    "hash": "f1457b87cac6d4aa1774f75f4105ee9216ef3309c69311af26acf73a88761189"
   }
  }
 },
 "nbformat": 4,
 "nbformat_minor": 2
}
