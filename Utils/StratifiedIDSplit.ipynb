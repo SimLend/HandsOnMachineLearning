{
 "cells": [
  {
   "cell_type": "code",
   "execution_count": null,
   "metadata": {},
   "outputs": [],
   "source": [
    "import zlib\n",
    "import pandas as pd\n",
    "import numpy as np\n",
    "\n",
    "def filterIndexOnCRC32Range(index, min_ratio, max_ratio):\n",
    "    hash = zlib.crc32(np.int64(index))\n",
    "    MaxUInt32 = 2**32\n",
    "    return  hash >= min_ratio * MaxUInt32 and hash < max_ratio * MaxUInt32\n",
    "\n",
    "def stratifiedIDSplit(Data, ratio, ID, StrataColumn=None, Strata):\n",
    "    StratifiedData = Data.copy()\n",
    "    StratifiedData[\"Strata\"] = pd.cut(Data[StrataColumn],\n",
    "                                      bins=Strata),\n",
    "                                      labels=np.arange(0,len(Strata))\n",
    "    \n",
    "    StrataPercentages = StratifiedData[\"Strata\"].value_counts().sort_index() / StratifiedData[\"Strata\"].value_counts().sum()\n",
    "\n",
    "    SplittedData = [x for _, x in StratifiedData.groupby(StratifiedData.values)]\n",
    "    \n",
    "    StratifiedSets = [(TestSet, DevSet) for TestSet, DevSet in filterIndexOnCRC32Range()]\n",
    "    \n"
   ]
  }
 ],
 "metadata": {
  "kernelspec": {
   "display_name": "MachineLearning",
   "language": "python",
   "name": "python3"
  },
  "language_info": {
   "name": "python",
   "version": "3.11.0"
  },
  "orig_nbformat": 4,
  "vscode": {
   "interpreter": {
    "hash": "f1457b87cac6d4aa1774f75f4105ee9216ef3309c69311af26acf73a88761189"
   }
  }
 },
 "nbformat": 4,
 "nbformat_minor": 2
}
